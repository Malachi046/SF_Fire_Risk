{
  "nbformat": 4,
  "nbformat_minor": 0,
  "metadata": {
    "colab": {
      "provenance": []
    },
    "kernelspec": {
      "name": "python3",
      "display_name": "Python 3"
    },
    "language_info": {
      "name": "python"
    }
  },
  "cells": [
    {
      "cell_type": "code",
      "execution_count": 39,
      "metadata": {
        "id": "XskODHCGeNih"
      },
      "outputs": [],
      "source": [
        "import math as math\n",
        "import numpy as np\n",
        "\n",
        "\n",
        "def RMSE(x, y, theta0, thetas):\n",
        "\n",
        "    n = len(x)\n",
        "    tCost = 0\n",
        "\n",
        "    for i in range(n):\n",
        "        yhat = np.dot(thetas, x[i,:]) + theta0\n",
        "        tCost = tCost + (yhat - y.iloc[i])**2\n",
        "    cost = math.sqrt(tCost / n)\n",
        "\n",
        "    return cost"
      ]
    },
    {
      "source": [
        "import numpy as np\n",
        "from scipy import sparse\n",
        "import matplotlib.pyplot as plt\n",
        "import pandas as pd\n",
        "from sklearn import datasets\n",
        "\n",
        "\n",
        "df = pd.read_csv('Assignment 1 Export.csv', header=0, sep=',', quotechar='\"', usecols=['INTPTLAT',\t'INTPTLON',\t'Children',\t'Elderly',\t'Poverty',\t'Elevation',\t'SeaLevelRise',\t'Precipitation',\t'Diabetes',\t'MentalHealth'\t,'Asthma'\t,'Disability'\t,'HousingQuality',\t'Homeless'\t,'LivAlone'\t,'FloodHealthIndex_Quintiles'])\n",
        "\n",
        "#inputs and outputs\n",
        "dataX = df.drop('FloodHealthIndex_Quintiles', axis=1)\n",
        "dataY = df['FloodHealthIndex_Quintiles']\n",
        "test = []\n",
        "errs = []\n",
        "numFeatures = 15\n",
        "\n",
        "#hyperparameters\n",
        "TrainPercent = 0.7   # set percentage of data used in the training set [0-1]\n",
        "iter=300\n",
        "eta=0.005\n",
        "\n",
        "#data splitting\n",
        "split = round(len(dataX)*TrainPercent)\n",
        "trainX = dataX[:split].to_numpy()\n",
        "trainY = dataY[:split]\n",
        "testX = dataX[split+1:].to_numpy()\n",
        "testY = dataY[split+1:]\n",
        "N = split\n",
        "\n",
        "#initialize parameters as 0\n",
        "theta0=0\n",
        "thetas=np.zeros(15)\n",
        "\n",
        "#each iteration\n",
        "for j in range(iter):\n",
        "  t0Grad=0;\n",
        "  tGrads=np.zeros(15)\n",
        "\n",
        "  #for each row\n",
        "  for i in range(N):\n",
        "    yhat = np.dot(trainX[i,:],thetas) + theta0 #find parameters\n",
        "    t0Grad= t0Grad+ (yhat-trainY[i])\n",
        "\n",
        "    #for each feature\n",
        "    for k in range(numFeatures):\n",
        "      tGrads[k] += (yhat-trainY[i])*trainX[i,k]\n",
        "\n",
        "\n",
        "  errs.append(RMSE(trainX, trainY, theta0, thetas))\n",
        "  test.append(RMSE(testX, testY, theta0, thetas))\n",
        "\n",
        "\n",
        "  t0Grad = t0Grad / N\n",
        "  tGrads = tGrads / N\n",
        "  theta0 = theta0 - eta * t0Grad\n",
        "  thetas -= eta * tGrads\n",
        "\n",
        "\n",
        "print(thetas)\n",
        "print(test[len(test)-1])\n",
        "plt.plot(errs)\n",
        "plt.show()"
      ],
      "cell_type": "code",
      "metadata": {
        "colab": {
          "base_uri": "https://localhost:8080/",
          "height": 503
        },
        "id": "uN2wMXzIn4t0",
        "outputId": "37f7fd19-aeb4-4a48-d834-5808d2e14dfd"
      },
      "execution_count": 42,
      "outputs": [
        {
          "output_type": "stream",
          "name": "stdout",
          "text": [
            "[0.13553332 0.12747905 0.06594231 0.07124659 0.11598269 0.03453796\n",
            " 0.01677343 0.02301019 0.03218384 0.085106   0.11741324 0.07941521\n",
            " 0.0115451  0.11015448 0.12689908]\n",
            "0.4737434856504233\n"
          ]
        },
        {
          "output_type": "display_data",
          "data": {
            "text/plain": [
              "<Figure size 640x480 with 1 Axes>"
            ],
            "image/png": "[encoded data removed]"
          },
          "metadata": {}
        }
      ]
    }
  ]
}