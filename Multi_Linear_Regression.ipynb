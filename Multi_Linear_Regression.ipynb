{
  "nbformat": 4,
  "nbformat_minor": 0,
  "metadata": {
    "colab": {
      "provenance": []
    },
    "kernelspec": {
      "name": "python3",
      "display_name": "Python 3"
    },
    "language_info": {
      "name": "python"
    }
  },
  "cells": [
    {
      "cell_type": "code",
      "execution_count": 44,
      "metadata": {
        "id": "XskODHCGeNih"
      },
      "outputs": [],
      "source": [
        "import math as math\n",
        "import numpy as np\n",
        "\n",
        "\n",
        "def RMSE(x, y, theta0, thetas):\n",
        "\n",
        "    n = len(x)\n",
        "    tCost = 0\n",
        "\n",
        "    for i in range(n):\n",
        "        yhat = np.dot(thetas, x[i,:]) + theta0\n",
        "        tCost = tCost + (yhat - y.iloc[i])**2\n",
        "    cost = math.sqrt(tCost / n)\n",
        "\n",
        "    return cost"
      ]
    },
    {
      "source": [
        "import numpy as np\n",
        "from scipy import sparse\n",
        "import matplotlib.pyplot as plt\n",
        "from sklearn.metrics import mean_squared_error\n",
        "import pandas as pd\n",
        "from sklearn import datasets\n",
        "\n",
        "\n",
        "df = pd.read_csv('Assignment 1 Export.csv', header=0, sep=',', quotechar='\"', usecols=['INTPTLAT',\t'INTPTLON',\t'Children',\t'Elderly',\t'Poverty',\t'Elevation',\t'SeaLevelRise',\t'Precipitation',\t'Diabetes',\t'MentalHealth'\t,'Asthma'\t,'Disability'\t,'HousingQuality',\t'Homeless'\t,'LivAlone'\t,'FloodHealthIndex'])\n",
        "#df = pd.read_csv('Assignment 1 Export.csv', header=0, sep=',', quotechar='\"', usecols=['INTPTLAT',\t'INTPTLON',\t'Children',\t'Elderly',\t'Poverty',\t'Elevation',\t'SeaLevelRise',\t'Precipitation',\t'Diabetes',\t'MentalHealth'\t,'Asthma'\t,'Disability'\t,'HousingQuality',\t'Homeless'\t,'LivAlone'\t,'FloodHealthIndex_Quintiles'])\n",
        "\n",
        "#inputs and outputs\n",
        "dataX = df.drop('FloodHealthIndex', axis=1)\n",
        "dataY = df['FloodHealthIndex']\n",
        "test = []\n",
        "errs = []\n",
        "\n",
        "numFeatures = 15\n",
        "\n",
        "#hyperparameters\n",
        "TrainPercent = 0.7   # set percentage of data used in the training set [0-1]\n",
        "iter=300\n",
        "eta=0.005\n",
        "\n",
        "#data splitting\n",
        "split = round(len(dataX)*TrainPercent)\n",
        "trainX = dataX[:split].to_numpy()\n",
        "trainY = dataY[:split]\n",
        "testX = dataX[split+1:].to_numpy()\n",
        "testY = dataY[split+1:]\n",
        "\n",
        "\n",
        "#initialize parameters as 0\n",
        "theta0=0\n",
        "thetas=np.zeros(15)\n",
        "yhats = []\n",
        "exportYhats = []\n",
        "\n",
        "#each iteration\n",
        "for j in range(iter):\n",
        "  t0Grad=0;\n",
        "  tGrads=np.zeros(15)\n",
        "\n",
        "  #for each row\n",
        "  for i in range(split):\n",
        "    yhat = np.dot(trainX[i,:],thetas) + theta0 #find parameters\n",
        "    t0Grad= t0Grad+ (yhat-trainY[i])\n",
        "\n",
        "\n",
        "    #for each feature\n",
        "    for k in range(numFeatures):\n",
        "      tGrads[k] += (yhat-trainY[i])*trainX[i,k]\n",
        "\n",
        "\n",
        "  errs.append(RMSE(trainX, trainY, theta0, thetas))\n",
        "  test.append(RMSE(testX, testY, theta0, thetas))\n",
        "\n",
        "\n",
        "  t0Grad = t0Grad / split\n",
        "  tGrads = tGrads / split\n",
        "  theta0 = theta0 - eta * t0Grad\n",
        "  thetas -= eta * tGrads\n",
        "\n",
        "for L in range(len(testX)):\n",
        "    yhats.append(np.dot(testX[L,:],thetas) + theta0)\n",
        "\n",
        "for M in range(len(dataX)):\n",
        "    exportYhats.append(np.dot(dataX.iloc[M,:],thetas) + theta0)\n",
        "\n",
        "df['prediction'] = exportYhats\n",
        "df.to_csv('prediction.csv')\n",
        "\n",
        "\n",
        "print(mean_squared_error(testY, yhats))\n",
        "plt.plot(errs)\n",
        "plt.show()"
      ],
      "cell_type": "code",
      "metadata": {
        "colab": {
          "base_uri": "https://localhost:8080/",
          "height": 448
        },
        "id": "uN2wMXzIn4t0",
        "outputId": "db8bb4cc-b4b2-46d5-b01a-9e0169887b68"
      },
      "execution_count": 56,
      "outputs": [
        {
          "output_type": "stream",
          "name": "stdout",
          "text": [
            "0.02297906008004589\n"
          ]
        },
        {
          "output_type": "display_data",
          "data": {
            "text/plain": [
              "<Figure size 640x480 with 1 Axes>"
            ],
            "image/png": "[encoded data removed]"
          },
          "metadata": {}
        }
      ]
    },
    {
      "cell_type": "code",
      "source": [
        "import pandas as pd\n",
        "from sklearn.model_selection import train_test_split\n",
        "from sklearn.linear_model import LinearRegression\n",
        "from sklearn.metrics import mean_squared_error\n",
        "\n",
        "\n",
        "data = pd.read_csv('Assignment 1 Export.csv')\n",
        "\n",
        "\n",
        "X = data[['INTPTLAT',\t'INTPTLON',\t'Children',\t'Elderly',\t'Poverty',\t'Elevation',\t'SeaLevelRise',\t'Precipitation',\t'Diabetes',\t'MentalHealth'\t,'Asthma'\t,'Disability'\t,'HousingQuality',\t'Homeless'\t,'LivAlone'\t]]\n",
        "y = data['FloodHealthIndex']\n",
        "\n",
        "\n",
        "X_train, X_test, y_train, y_test = train_test_split(X, y, test_size=0.3, random_state=42)\n",
        "\n",
        "model = LinearRegression()\n",
        "model.fit(X_train, y_train)\n",
        "y_pred = model.predict(X_test)\n",
        "\n",
        "mse = mean_squared_error(y_test, y_pred)\n",
        "print(f\"Mean Squared Error: {mse}\")\n"
      ],
      "metadata": {
        "colab": {
          "base_uri": "https://localhost:8080/"
        },
        "id": "MBPfKxnS1ygU",
        "outputId": "cd71f736-824c-4eed-d71c-2621ea41bd2e"
      },
      "execution_count": 54,
      "outputs": [
        {
          "output_type": "stream",
          "name": "stdout",
          "text": [
            "Mean Squared Error: 0.005513910096674217\n"
          ]
        }
      ]
    }
  ]
}